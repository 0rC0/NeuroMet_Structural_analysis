{
 "cells": [
  {
   "cell_type": "markdown",
   "metadata": {},
   "source": [
    "# NeuroMet"
   ]
  },
  {
   "cell_type": "markdown",
   "metadata": {},
   "source": [
    "Instructions:\n",
    "* this notebook cannot be used for two different analysis at the same time. If you are unsure if someone is using it click on File / Make a copy and work with the copy.\n",
    "* to run a cell press Umschalt (Shift) + Enter\n",
    "* to correctly run the workflow _EVERY_ cell has to be ran\n",
    "* When you run a cell, there is at first an [*] on the left, then a number (maybe an updated number) when the cell ran.\n",
    "* normally the only thing to adjust in the settings is 1.6 Subject"
   ]
  },
  {
   "cell_type": "markdown",
   "metadata": {},
   "source": [
    "## 0. External Modules"
   ]
  },
  {
   "cell_type": "markdown",
   "metadata": {},
   "source": [
    "red warnings are normal in next cell"
   ]
  },
  {
   "cell_type": "code",
   "execution_count": null,
   "metadata": {
    "scrolled": true
   },
   "outputs": [],
   "source": [
    "import importlib\n",
    "import workflows\n",
    "importlib.reload(workflows)\n",
    "from workflows.NeuroMet_dev import NeuroMet"
   ]
  },
  {
   "cell_type": "markdown",
   "metadata": {},
   "source": [
    "Just some external modules required to run correctly the notebook - nothing to edit - just press **shift + enter**"
   ]
  },
  {
   "cell_type": "code",
   "execution_count": null,
   "metadata": {},
   "outputs": [],
   "source": [
    "import os\n",
    "import glob\n",
    "from IPython.display import Image\n",
    "%matplotlib inline"
   ]
  },
  {
   "cell_type": "markdown",
   "metadata": {},
   "source": [
    "## 1. Settings"
   ]
  },
  {
   "cell_type": "markdown",
   "metadata": {},
   "source": [
    "### 1.1 Directories and Folders"
   ]
  },
  {
   "cell_type": "code",
   "execution_count": null,
   "metadata": {},
   "outputs": [],
   "source": [
    "## Paths\n",
    "raw_data_dir = '/media/drive_s/AG/AG-Floeel-Imaging/00-Rohdaten/02_niftis/NeuroMet_TheresaKoebe/02_NeuroMet'\n",
    "base_dir = '/media/drive_s/AG/AG-Floeel-Imaging/02-User/NEUROMET'\n",
    "temp_dir = '/home/WorkFlowTemp/NeuroMet'\n",
    "\n",
    "#Working directory\n",
    "w_dir = os.path.join(base_dir, 'Structural_analysis')"
   ]
  },
  {
   "cell_type": "markdown",
   "metadata": {},
   "source": [
    "### 1.2 Matlab"
   ]
  },
  {
   "cell_type": "markdown",
   "metadata": {},
   "source": [
    "The path where SPM is and the command to call matlab. *Everything should be fine as is*"
   ]
  },
  {
   "cell_type": "code",
   "execution_count": null,
   "metadata": {},
   "outputs": [],
   "source": [
    "spm_path='/opt/spm12'\n",
    "matlab_command = \"matlab -nodesktop -nosplash\""
   ]
  },
  {
   "cell_type": "markdown",
   "metadata": {},
   "source": [
    "### 1.3 FSL"
   ]
  },
  {
   "cell_type": "markdown",
   "metadata": {},
   "source": [
    "Set format for FSL output files, i.e. NIFTI_GZ, NIFTI\n",
    "\n",
    "References: https://fsl.fmrib.ox.ac.uk/fsl/fslwiki/FslEnvironmentVariables"
   ]
  },
  {
   "cell_type": "code",
   "execution_count": null,
   "metadata": {},
   "outputs": [],
   "source": [
    "fsl_file_format = 'NIFTI_GZ'"
   ]
  },
  {
   "cell_type": "markdown",
   "metadata": {},
   "source": [
    "### 1.4 QDec"
   ]
  },
  {
   "cell_type": "code",
   "execution_count": null,
   "metadata": {},
   "outputs": [],
   "source": [
    "qdec_subfolder = ''"
   ]
  },
  {
   "cell_type": "markdown",
   "metadata": {},
   "source": [
    "### 1.5 Others"
   ]
  },
  {
   "cell_type": "markdown",
   "metadata": {},
   "source": [
    "* **cores** : How many cores should be available. That can mean the number of subject analyzed in parallel for one-core steps or the core available for a multi-core step.\n",
    "    * If no other analysis are running on the computer, chose: c-3po: 4 and doc2: 3\n",
    "    * If other analysis are running, chose: c-3po: 4-(used cores by other analysis) or doc2: 3-(used cores by other analysis) \n",
    "* **overwrite**: If the \"_copy from raw data_\" step should overwrite the copied files\n",
    "* **omp_nthreads**: For the freesurfer steps with multicore support, **normally 1 is a good choice**\n",
    "    * 4 cores at c-3po: for 1 subject --> omp_nthreads = 5\n",
    "    * 4 cores at c-3po: for 2 subjects --> omp_nthreads = 2\n",
    "    * 4 cores at c-3po: for 3 subjects and more --> omp_nthreads = 1"
   ]
  },
  {
   "cell_type": "code",
   "execution_count": null,
   "metadata": {},
   "outputs": [],
   "source": [
    "cores = 1\n",
    "overwrite = False\n",
    "omp_nthreads = 1"
   ]
  },
  {
   "cell_type": "markdown",
   "metadata": {},
   "source": [
    "### 1.5 Subjects"
   ]
  },
  {
   "cell_type": "markdown",
   "metadata": {},
   "source": [
    "**subject_list**:\n",
    "* to analyze all subjects cut&paste below: `subject_list = [ x.split('/')[-1][8:11] for x in os.listdir(w_dir) if x.startswith('NeuroMet')]`\n",
    "* to analyse only some subjects use the format: `subject_list = ['subject number', 'subject number' ... ]` i.e.: `subject_list = ['001']` or `subject_list = ['001', '003']` \n",
    "\n",
    "**qdec_subjects**:\n",
    "* to analyze all subjects in folder: `qdec_subjects = []`\n",
    "* to analyze the same subjects as in `subject_list`: `qdec_subjects = subject_list`\n",
    "* to analyse only some subjects use the format: `qdec_subjects = ['subject number', 'subject number' ... ]` i.e.: `qdec_subjects = ['001']` or `qdec_subjects = ['001', '003']` "
   ]
  },
  {
   "cell_type": "code",
   "execution_count": null,
   "metadata": {},
   "outputs": [],
   "source": [
    "subject_list = ['090']\n",
    "qdec_subjects = []"
   ]
  },
  {
   "cell_type": "markdown",
   "metadata": {},
   "source": [
    "## 2. Create a NeuroMet Object"
   ]
  },
  {
   "cell_type": "code",
   "execution_count": null,
   "metadata": {},
   "outputs": [],
   "source": [
    "neuromet_creator = NeuroMet(subject_list, temp_dir, w_dir, omp_nthreads, raw_data_dir, overwrite, spm_path, matlab_command, fsl_file_format, qdec_subjects, qdec_subfolder)"
   ]
  },
  {
   "cell_type": "markdown",
   "metadata": {},
   "source": [
    "# Workflow - 1st part - SPM Segment and Mask generation"
   ]
  },
  {
   "cell_type": "markdown",
   "metadata": {},
   "source": [
    "## 3. Copy from raw data"
   ]
  },
  {
   "cell_type": "code",
   "execution_count": null,
   "metadata": {
    "scrolled": true
   },
   "outputs": [],
   "source": [
    "neuromet_creator.copy_from_raw_data()"
   ]
  },
  {
   "cell_type": "code",
   "execution_count": null,
   "metadata": {},
   "outputs": [],
   "source": [
    "neuromet = neuromet_creator.make_neuromet1_workflow()"
   ]
  },
  {
   "cell_type": "code",
   "execution_count": null,
   "metadata": {},
   "outputs": [],
   "source": [
    "neuromet.write_graph(graph2use = 'colored', dotfilename = './neuromet')\n",
    "Image(filename='neuromet.png')"
   ]
  },
  {
   "cell_type": "markdown",
   "metadata": {},
   "source": [
    "## 4. Run Pipeline"
   ]
  },
  {
   "cell_type": "code",
   "execution_count": null,
   "metadata": {
    "scrolled": true
   },
   "outputs": [],
   "source": [
    "%%time\n",
    "neuromet.run('MultiProc', plugin_args={'n_procs': cores})"
   ]
  },
  {
   "cell_type": "markdown",
   "metadata": {},
   "source": [
    "## Open UNI and UNI_DEN brainmasks -> edit"
   ]
  },
  {
   "cell_type": "code",
   "execution_count": null,
   "metadata": {},
   "outputs": [],
   "source": [
    "mask_subject = '003'\n",
    "viewer = 'fslview' # Possibilities: fslview, fsleyes, default = fslview\n",
    "#viewer = '/opt/FSLeyes/fsleyes'"
   ]
  },
  {
   "cell_type": "code",
   "execution_count": null,
   "metadata": {},
   "outputs": [],
   "source": [
    "%%bash -s \"$w_dir\" \"$mask_subject\" \"$viewer\"\n",
    "SPMdir=$1\n",
    "subject_number=$2\n",
    "viewer=$3\n",
    "# Maske gleichzeitig mit Unihintergrund öffnen\n",
    "\n",
    "echo \"w_dir=$SPMdir\"\n",
    "echo \"subject_number=$subject_number\"\n",
    "echo \"viewer=$viewer\"\n",
    "\n",
    "uniden=\"UNI\"\n",
    "\n",
    "subject=\"NeuroMet${subject_number}\"\n",
    "sub_dir=$SPMdir/${subject}\n",
    "echo $subject\n",
    "\n",
    "uni=$sub_dir/m${subject}.UNI_mp2rage_orig_reoriented.nii \n",
    "uni_mask=$sub_dir/${subject}.UNI_brain_bin.nii.gz\n",
    "den_mask=$sub_dir/${subject}.DEN_brain_bin.nii.gz\n",
    "echo $uni\n",
    "echo $uni_mask\n",
    "echo $den_mask\n",
    "\n",
    "# Falls vorhanden, öffnen SPMbrain_bin\n",
    "if [ -e $sub_dir/${subject}.SPMbrain_bin.nii.gz ]; then\n",
    "    spmbrainbin=\"$sub_dir/${subject}.SPMbrain_bin.nii.gz\"\n",
    "fi\n",
    "\n",
    "if [ $viewer = 'fslview' ]; then\n",
    "    spmbrainbin=\"$spmbrainbin -l Green\"\n",
    "    fslview $uni $uni_mask -l Red $den_mask -l Yellow $spmbrainbin\n",
    "    # $SPMdir/$subject.$ro_suffix $SPMdir/$subject.$suffix -l Red\n",
    "elif [ $viewer = 'fsleyes' ]; then\n",
    "    spmbrainbin=\"$spmbrainbin -cm green\"\n",
    "    /opt/FSLeyes/fsleyes $uni $uni_mask -cm red $den_mask -cm yellow $spmbrainbin\n",
    "else\n",
    "    spmbrainbin=\"$spmbrainbin -l Green\"\n",
    "    fslview $uni $uni_mask -l Red $den_mask -l Yellow $spmbrainbin\n",
    "    # $SPMdir/$subject.$ro_suffix $SPMdir/$subject.$suffix -l Red\n",
    "fi"
   ]
  },
  {
   "cell_type": "markdown",
   "metadata": {},
   "source": [
    "### Which one has to be used as mask?"
   ]
  },
  {
   "cell_type": "code",
   "execution_count": null,
   "metadata": {},
   "outputs": [],
   "source": [
    "%%bash -s \"$w_dir\" \"$mask_subject\"\n",
    "\n",
    "mask='DEN'\n",
    "\n",
    "SPMdir=$1\n",
    "subject_number=$2\n",
    "subject=\"NeuroMet${subject_number}\"\n",
    "sub_dir=$SPMdir/${subject}\n",
    "\n",
    "cp $sub_dir/${subject}.${mask}_brain_bin.nii.gz $sub_dir/${subject}.SPMbrain_bin.nii.gz"
   ]
  },
  {
   "cell_type": "markdown",
   "metadata": {},
   "source": [
    "# Workflow 2. Part - Create combined image and Freesurfer"
   ]
  },
  {
   "cell_type": "markdown",
   "metadata": {},
   "source": [
    "## 05. Print current Subjects "
   ]
  },
  {
   "cell_type": "code",
   "execution_count": null,
   "metadata": {
    "scrolled": true
   },
   "outputs": [],
   "source": [
    "print(subject_list)"
   ]
  },
  {
   "cell_type": "markdown",
   "metadata": {},
   "source": [
    "## 06.Edit Subjects list \n",
    "\n",
    "**Subject List**:\n",
    "* to analyze all subjects cut&paste below: `subject_list = [ x.split('/')[-1][8:11] for x in uni ]` already existing analyses will _NOT_ be run again neither overwritten\n",
    "* to analyse only some subjects cut&paste below something with the format: `subject_list = ['subject number', 'subject number' ... ]` i.e.: `subject_list = ['001']` or `subject_list = ['001', '003']\n",
    "* leave the next cell commented to mantain the actual list"
   ]
  },
  {
   "cell_type": "code",
   "execution_count": null,
   "metadata": {},
   "outputs": [],
   "source": [
    "# Uncomment here for all subjects:\n",
    "#subject_list = [ x.split('/')[-1][8:11] for x in uni ]\n",
    "\n",
    "# only some subjects? Then edit here:  \n",
    "#subject_list = ['001', '002'] # format: ['subid1', 'subid2', ....]"
   ]
  },
  {
   "cell_type": "markdown",
   "metadata": {},
   "source": [
    "## Check if all the brain masks are present and gzipped"
   ]
  },
  {
   "cell_type": "code",
   "execution_count": null,
   "metadata": {},
   "outputs": [],
   "source": [
    "neuromet_creator.check_gz_masks(subject_list)\n"
   ]
  },
  {
   "cell_type": "markdown",
   "metadata": {},
   "source": [
    "## SetUp Workflow\n",
    "Just run this cell to setup the Workflow - nothing to edit"
   ]
  },
  {
   "cell_type": "code",
   "execution_count": null,
   "metadata": {},
   "outputs": [],
   "source": [
    "neuromet_creator = NeuroMet(subject_list, temp_dir, w_dir, omp_nthreads, raw_data_dir, overwrite, spm_path, matlab_command, fsl_file_format, qdec_subjects, qdec_subfolder)\n",
    "neuromet2 = neuromet_creator.make_neuromet2_workflow()"
   ]
  },
  {
   "cell_type": "markdown",
   "metadata": {},
   "source": [
    "## Draw Workflow's Graph\n",
    "Run this cell to draw the workflow's graph"
   ]
  },
  {
   "cell_type": "code",
   "execution_count": null,
   "metadata": {
    "scrolled": false
   },
   "outputs": [],
   "source": [
    "neuromet2.write_graph(graph2use = 'colored', dotfilename = './neuromet_2')\n",
    "Image(filename='neuromet_2.png')"
   ]
  },
  {
   "cell_type": "markdown",
   "metadata": {},
   "source": [
    "## Run Freesurfer Analysis\n",
    "run the cell below to run the analysis"
   ]
  },
  {
   "cell_type": "code",
   "execution_count": null,
   "metadata": {
    "scrolled": true
   },
   "outputs": [],
   "source": [
    "%%time\n",
    "neuromet2.run('MultiProc', plugin_args={'n_procs': cores})"
   ]
  },
  {
   "cell_type": "markdown",
   "metadata": {},
   "source": [
    "## 07. Qdec"
   ]
  },
  {
   "cell_type": "code",
   "execution_count": null,
   "metadata": {},
   "outputs": [],
   "source": [
    "s = neuromet_creator.show_qdec_stuff()\n",
    "print(s)"
   ]
  },
  {
   "cell_type": "code",
   "execution_count": null,
   "metadata": {},
   "outputs": [],
   "source": [
    "%%bash -s \"$w_dir\"\n",
    "SUBJECTS_DIR=$1\n",
    "cd $SUBJECTS_DIR\n",
    "qdec&"
   ]
  },
  {
   "cell_type": "markdown",
   "metadata": {},
   "source": []
  },
  {
   "cell_type": "markdown",
   "metadata": {},
   "source": [
    "## 08. Extract Hippocampal volumes"
   ]
  },
  {
   "cell_type": "code",
   "execution_count": null,
   "metadata": {},
   "outputs": [],
   "source": [
    "%%bash -s \"$w_dir\" \"$subject_list\"\n",
    "SUBJECTS_DIR=$1\n",
    "echo $FREESURFER_HOME\n",
    "echo $SUBJECTS_DIR\n",
    "subject_list=$2\n",
    "cmd=\"/media/drive_s/AG/AG-Floeel-Imaging/02-User/NEUROMET/bash-scripts/HippocampalVolumeExtraction\"\n",
    "cd $SUBJECTS_DIR\n",
    "$cmd ${subject_list//[\\',\\[\\]]}"
   ]
  },
  {
   "cell_type": "code",
   "execution_count": null,
   "metadata": {},
   "outputs": [],
   "source": [
    "import pandas as pd\n",
    "out_file = '/media/drive_s/AG/AG-Floeel-Imaging/02-User/NEUROMET/Structural_analysis'\n",
    "df = pd.read_csv(out_file, sep = ' ')\n",
    "writer = pd.ExcelWriter('HippocampusSubfieldVolume.xlsx')\n",
    "df.to_excel(writer,'HippocampusSubfieldVolume')\n",
    "writer.save()"
   ]
  },
  {
   "cell_type": "code",
   "execution_count": null,
   "metadata": {},
   "outputs": [],
   "source": [
    "## Vergleich 2 Freesurfer Ordner"
   ]
  },
  {
   "cell_type": "code",
   "execution_count": null,
   "metadata": {
    "scrolled": true
   },
   "outputs": [],
   "source": [
    "b = [ i.split('/')[-1] for i in glob.glob('/media/drive_s/AG/AG-Floeel-Imaging/02-User/TheresaKoebe/NeuroMet_Project/Structural_analysis/NeuroMet027/NeuroMet027.freesurfer/*/*')] "
   ]
  },
  {
   "cell_type": "code",
   "execution_count": null,
   "metadata": {},
   "outputs": [],
   "source": [
    "a = [ i.split('/')[-1] for i in glob.glob('/media/drive_s/AG/AG-Floeel-Imaging/02-User/TheresaKoebe/NeuroMet_Project/Structural_analysis/NeuroMet026/NeuroMet026.freesurfer/*/*')] "
   ]
  },
  {
   "cell_type": "code",
   "execution_count": null,
   "metadata": {},
   "outputs": [],
   "source": [
    "a"
   ]
  },
  {
   "cell_type": "code",
   "execution_count": null,
   "metadata": {},
   "outputs": [],
   "source": [
    "set(a) - set(b)"
   ]
  },
  {
   "cell_type": "code",
   "execution_count": null,
   "metadata": {},
   "outputs": [],
   "source": [
    "c = [ i.split('/')[-1] for i in glob.glob('/media/drive_s/AG/AG-Floeel-Imaging/02-User/TheresaKoebe/NeuroMet_Project/Structural_analysis/NeuroMet028/NeuroMet028.freesurfer/*/*')] "
   ]
  },
  {
   "cell_type": "code",
   "execution_count": null,
   "metadata": {},
   "outputs": [],
   "source": [
    "set(a) - set(c)"
   ]
  },
  {
   "cell_type": "code",
   "execution_count": null,
   "metadata": {},
   "outputs": [],
   "source": []
  }
 ],
 "metadata": {
  "kernelspec": {
   "display_name": "Python 3",
   "language": "python",
   "name": "python3"
  },
  "language_info": {
   "codemirror_mode": {
    "name": "ipython",
    "version": 3
   },
   "file_extension": ".py",
   "mimetype": "text/x-python",
   "name": "python",
   "nbconvert_exporter": "python",
   "pygments_lexer": "ipython3",
   "version": "3.6.5"
  }
 },
 "nbformat": 4,
 "nbformat_minor": 2
}
